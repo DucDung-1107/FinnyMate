{
  "cells": [
    {
      "cell_type": "code",
      "execution_count": null,
      "metadata": {
        "colab": {
          "base_uri": "https://localhost:8080/"
        },
        "id": "xzEZYyB965EX",
        "outputId": "f88ed2a9-ef36-4cb4-de48-f6a20cd7c78f"
      },
      "outputs": [
        {
          "output_type": "stream",
          "name": "stdout",
          "text": [
            "Mounted at /content/drive\n"
          ]
        }
      ],
      "source": [
        "import numpy as np\n",
        "import pandas as pd\n",
        "import matplotlib.pyplot as plt\n",
        "import seaborn as sns\n",
        "import pandas as pd\n",
        "import numpy as np\n",
        "import matplotlib.pyplot as plt\n",
        "import seaborn as sns\n",
        "from typing import List, Any\n",
        "from pandas.core.frame import DataFrame\n",
        "from pandas import Series\n",
        "from scipy.stats import pearsonr\n",
        "from sklearn.ensemble import RandomForestRegressor\n",
        "from sklearn.preprocessing import MinMaxScaler, PowerTransformer, StandardScaler\n",
        "from sklearn.metrics import mean_absolute_percentage_error, mean_squared_error, r2_score\n",
        "from scipy.stats import pearsonr\n",
        "import os\n",
        "from datetime import timedelta\n",
        "from google.colab import drive\n",
        "import torch\n",
        "import torch.nn as nn\n",
        "import torch.optim as optim\n",
        "from torch.utils.data import DataLoader, TensorDataset\n",
        "import lightgbm as lgb\n",
        "from sklearn.metrics import mean_squared_error, mean_absolute_percentage_error, r2_score\n",
        "from sklearn.model_selection import GridSearchCV\n",
        "drive.mount('/content/drive')"
      ]
    },
    {
      "cell_type": "code",
      "execution_count": null,
      "metadata": {
        "id": "0yNGf8dj9Fs3"
      },
      "outputs": [],
      "source": [
        "fpt_data=pd.read_csv('/content/drive/MyDrive/Barefoots/Vòng 2/Code/Main/PreTrain Data/FPT raw.csv')\n",
        "cmc_data=pd.read_csv('/content/drive/MyDrive/Barefoots/Vòng 2/Code/Main/PreTrain Data/CMC raw.csv')"
      ]
    },
    {
      "cell_type": "code",
      "execution_count": null,
      "metadata": {
        "id": "OHZcaZ3K5qdM"
      },
      "outputs": [],
      "source": [
        "df=fpt_data\n",
        "\n",
        "df['price_shift_60'] = df['Close_FPT'].shift(-63)\n",
        "df['return_60'] = (df['price_shift_60'] - df['Close_FPT']) * 100 / df['Close_FPT']\n",
        "df.dropna(inplace=True)\n",
        "if 'time' in df.columns:\n",
        "      df['time'] = pd.to_datetime(df['Date'])\n",
        "      df.set_index('time', inplace=True)"
      ]
    },
    {
      "cell_type": "code",
      "execution_count": null,
      "metadata": {
        "colab": {
          "base_uri": "https://localhost:8080/"
        },
        "id": "of5hkHyO6tku",
        "outputId": "56c44de0-c4fe-4a16-93a3-61f938c0028d"
      },
      "outputs": [
        {
          "output_type": "stream",
          "name": "stdout",
          "text": [
            "        Date  Open_FPT  High_FPT  Low_FPT  Volume_FPT  Close_FPT  \\\n",
            "0 2017-08-24     14.53     14.65    14.47      433820      14.62   \n",
            "1 2017-08-25     14.65     14.67    14.56      374570      14.56   \n",
            "2 2017-08-28     14.50     14.59    14.48      569140      14.59   \n",
            "3 2017-08-29     14.56     14.74    14.54      828090      14.64   \n",
            "4 2017-08-30     14.61     14.68    14.57      322140      14.65   \n",
            "\n",
            "   Close_FPT_shift_60  \n",
            "0               14.64  \n",
            "1               14.65  \n",
            "2               14.87  \n",
            "3               14.90  \n",
            "4               14.87  \n",
            "------------------------------\n",
            "Separating features and target...\n",
            "Initial X_df shape: (1839, 6)\n",
            "Initial y_series shape: (1839,)\n",
            "------------------------------\n",
            "Scaling features...\n",
            "Shape of scaled numerical features: (1839, 5)\n",
            "Scaling target variable...\n",
            "Shape of scaled target: (1839, 1)\n",
            "------------------------------\n",
            "Creating sequences with lookback=150...\n",
            "Shape of X sequences: (1689, 150, 5)\n",
            "Shape of y sequences: (1689, 1)\n",
            "------------------------------\n",
            "Splitting data into train and test sets (time-based)...\n",
            "Train/Test Split Ratio: 0.85\n",
            "X_train shape: (1435, 150, 5)\n",
            "y_train shape: (1435, 1)\n",
            "X_test shape: (254, 150, 5)\n",
            "y_test shape: (254, 1)\n",
            "------------------------------\n",
            "Processing complete. You can now use:\n",
            "- X_train, y_train\n",
            "- X_test, y_test\n",
            "- feature_scaler (for future inputs)\n",
            "- label_scaler (to inverse_transform predictions)\n"
          ]
        }
      ],
      "source": [
        "import pandas as pd\n",
        "import numpy as np\n",
        "from sklearn.pipeline import Pipeline\n",
        "from sklearn.preprocessing import MinMaxScaler, PowerTransformer, StandardScaler\n",
        "\n",
        "def create_train_df_per_stock(features: np.array, label: np.array, lookback: int) -> tuple:\n",
        "    X, y = [], []\n",
        "    if label.ndim == 1:\n",
        "        label = label.reshape(-1, 1)\n",
        "\n",
        "    if len(features) < lookback:\n",
        "        raise ValueError(f\"Not enough data points for lookback. Data length: {len(features)}, Lookback: {lookback}\")\n",
        "\n",
        "    for i in range(lookback, len(features)):\n",
        "        X.append(features[i-lookback:i])\n",
        "        y.append(label[i])\n",
        "\n",
        "    return np.array(X), np.array(y)\n",
        "\n",
        "lookback = 150\n",
        "target_column = 'Close_FPT_shift_60'\n",
        "\n",
        "label_scaler = Pipeline([\n",
        "    ('minmax_scaler', MinMaxScaler()),\n",
        "    ('power_transformer', PowerTransformer())\n",
        "])\n",
        "\n",
        "feature_scaler = StandardScaler()\n",
        "\n",
        "df = fpt_data[['Date', 'Open_FPT', 'High_FPT', 'Low_FPT', 'Volume_FPT', 'Close_FPT']].copy()\n",
        "\n",
        "df['Date'] = pd.to_datetime(df['Date'])\n",
        "df.sort_values('Date', inplace=True)\n",
        "df.reset_index(drop=True, inplace=True)\n",
        "\n",
        "df[target_column] = df['Close_FPT'].shift(-3)\n",
        "df.dropna(subset=[target_column], inplace=True)\n",
        "\n",
        "print(df.head())\n",
        "print(\"-\" * 30)\n",
        "\n",
        "print(\"Separating features and target...\")\n",
        "X_df = df.drop(columns=[target_column])\n",
        "y_series = df[target_column]\n",
        "\n",
        "print(f\"Initial X_df shape: {X_df.shape}\")\n",
        "print(f\"Initial y_series shape: {y_series.shape}\")\n",
        "print(\"-\" * 30)\n",
        "\n",
        "print(\"Scaling features...\")\n",
        "numerical_features = X_df.select_dtypes(include=np.number).columns\n",
        "X_numerical_df = X_df[numerical_features]\n",
        "\n",
        "X_scaled_numerical = feature_scaler.fit_transform(X_numerical_df)\n",
        "print(f\"Shape of scaled numerical features: {X_scaled_numerical.shape}\")\n",
        "\n",
        "print(\"Scaling target variable...\")\n",
        "y_values = y_series.values.reshape(-1, 1)\n",
        "y_scaled = label_scaler.fit_transform(y_values)\n",
        "print(f\"Shape of scaled target: {y_scaled.shape}\")\n",
        "print(\"-\" * 30)\n",
        "\n",
        "print(f\"Creating sequences with lookback={lookback}...\")\n",
        "X_sequences, y_sequences = create_train_df_per_stock(X_scaled_numerical, y_scaled, lookback)\n",
        "print(f\"Shape of X sequences: {X_sequences.shape}\")\n",
        "print(f\"Shape of y sequences: {y_sequences.shape}\")\n",
        "print(\"-\" * 30)\n",
        "\n",
        "print(\"Splitting data into train and test sets (time-based)...\")\n",
        "split_ratio = 0.85\n",
        "split_index = int(len(y_sequences) * split_ratio)\n",
        "\n",
        "X_train, X_test = X_sequences[:split_index], X_sequences[split_index:]\n",
        "y_train, y_test = y_sequences[:split_index], y_sequences[split_index:]\n",
        "\n",
        "print(f\"Train/Test Split Ratio: {split_ratio}\")\n",
        "print(f\"X_train shape: {X_train.shape}\")\n",
        "print(f\"y_train shape: {y_train.shape}\")\n",
        "print(f\"X_test shape: {X_test.shape}\")\n",
        "print(f\"y_test shape: {y_test.shape}\")\n",
        "print(\"-\" * 30)\n",
        "\n",
        "print(\"Processing complete. You can now use:\")\n",
        "print(\"- X_train, y_train\")\n",
        "print(\"- X_test, y_test\")\n",
        "print(\"- feature_scaler (for future inputs)\")\n",
        "print(\"- label_scaler (to inverse_transform predictions)\")\n"
      ]
    },
    {
      "cell_type": "code",
      "source": [
        "print(pd.DataFrame(y_train).head())"
      ],
      "metadata": {
        "colab": {
          "base_uri": "https://localhost:8080/"
        },
        "id": "w7ZsR984HOC7",
        "outputId": "21d055e4-d70c-4496-ecd4-fd5c34407e50"
      },
      "execution_count": null,
      "outputs": [
        {
          "output_type": "stream",
          "name": "stdout",
          "text": [
            "          0\n",
            "0 -1.020583\n",
            "1 -1.026200\n",
            "2 -1.013112\n",
            "3 -0.993912\n",
            "4 -1.020583\n"
          ]
        }
      ]
    },
    {
      "cell_type": "code",
      "execution_count": null,
      "metadata": {
        "colab": {
          "base_uri": "https://localhost:8080/"
        },
        "id": "XCd7cKXY8Ovy",
        "outputId": "05ed4a14-e56a-4177-eeb5-c4e501e3eb35"
      },
      "outputs": [
        {
          "output_type": "stream",
          "name": "stdout",
          "text": [
            "MAE: 0.5090\n",
            "RMSE: 0.5616\n",
            "R2: -4.8712\n"
          ]
        }
      ],
      "source": [
        "import xgboost as xgb\n",
        "from sklearn.metrics import mean_absolute_error, mean_squared_error, r2_score\n",
        "\n",
        "X_train_reshaped = X_train.reshape(X_train.shape[0], -1)\n",
        "X_test_reshaped = X_test.reshape(X_test.shape[0], -1)\n",
        "\n",
        "model = xgb.XGBRegressor()\n",
        "model.fit(X_train_reshaped, y_train)\n",
        "predictions = model.predict(X_test_reshaped)\n",
        "\n",
        "mae = mean_absolute_error(y_test, predictions)\n",
        "rmse = np.sqrt(mean_squared_error(y_test, predictions))\n",
        "r2 = r2_score(y_test, predictions)\n",
        "\n",
        "print(f\"MAE: {mae:.4f}\")\n",
        "print(f\"RMSE: {rmse:.4f}\")\n",
        "print(f\"R2: {r2:.4f}\")"
      ]
    },
    {
      "cell_type": "code",
      "source": [
        "y_test_inv = label_scaler.inverse_transform(y_test.reshape(-1, 1)).flatten()\n",
        "predictions_inv = label_scaler.inverse_transform(predictions.reshape(-1, 1)).flatten()\n",
        "\n",
        "\n",
        "print(f\"MAE: {mae:.4f}\")\n",
        "print(f\"RMSE: {rmse:.4f}\")\n",
        "print(f\"R2: {r2:.4f}\")\n",
        "\n",
        "plt.figure(figsize=(12,6))\n",
        "plt.plot(y_test_inv, label='True', marker='o', markersize=3)\n",
        "plt.plot(predictions_inv, label='Predicted', marker='x', markersize=3)\n",
        "plt.title('True vs Predicted Values')\n",
        "plt.xlabel('Sample Index')\n",
        "plt.ylabel('Value')\n",
        "plt.legend()\n",
        "plt.grid(True)\n",
        "plt.show()\n"
      ],
      "metadata": {
        "colab": {
          "base_uri": "https://localhost:8080/",
          "height": 616
        },
        "id": "xwy637HGVLre",
        "outputId": "f1b877c3-a290-4722-d59c-cb19ea581f18"
      },
      "execution_count": null,
      "outputs": [
        {
          "output_type": "stream",
          "name": "stdout",
          "text": [
            "MAE: 0.5090\n",
            "RMSE: 0.5616\n",
            "R2: -4.8712\n"
          ]
        },
        {
          "output_type": "display_data",
          "data": {
            "text/plain": [
              "<Figure size 1200x600 with 1 Axes>"
            ],
            "image/png": "[encoded data removed]"
          },
          "metadata": {}
        }
      ]
    },
    {
      "cell_type": "code",
      "execution_count": null,
      "metadata": {
        "colab": {
          "base_uri": "https://localhost:8080/",
          "height": 458
        },
        "id": "3qnYJpbJQ5V_",
        "outputId": "26550952-8a60-4955-c9d7-92b25cd4b667"
      },
      "outputs": [
        {
          "data": {
            "text/html": [
              "<div>\n",
              "<style scoped>\n",
              "    .dataframe tbody tr th:only-of-type {\n",
              "        vertical-align: middle;\n",
              "    }\n",
              "\n",
              "    .dataframe tbody tr th {\n",
              "        vertical-align: top;\n",
              "    }\n",
              "\n",
              "    .dataframe thead th {\n",
              "        text-align: right;\n",
              "    }\n",
              "</style>\n",
              "<table border=\"1\" class=\"dataframe\">\n",
              "  <thead>\n",
              "    <tr style=\"text-align: right;\">\n",
              "      <th></th>\n",
              "      <th>Close_FPT</th>\n",
              "    </tr>\n",
              "  </thead>\n",
              "  <tbody>\n",
              "    <tr>\n",
              "      <th>0</th>\n",
              "      <td>14.62</td>\n",
              "    </tr>\n",
              "    <tr>\n",
              "      <th>1</th>\n",
              "      <td>14.56</td>\n",
              "    </tr>\n",
              "    <tr>\n",
              "      <th>2</th>\n",
              "      <td>14.59</td>\n",
              "    </tr>\n",
              "    <tr>\n",
              "      <th>3</th>\n",
              "      <td>14.64</td>\n",
              "    </tr>\n",
              "    <tr>\n",
              "      <th>4</th>\n",
              "      <td>14.65</td>\n",
              "    </tr>\n",
              "    <tr>\n",
              "      <th>...</th>\n",
              "      <td>...</td>\n",
              "    </tr>\n",
              "    <tr>\n",
              "      <th>1897</th>\n",
              "      <td>124.00</td>\n",
              "    </tr>\n",
              "    <tr>\n",
              "      <th>1898</th>\n",
              "      <td>121.00</td>\n",
              "    </tr>\n",
              "    <tr>\n",
              "      <th>1899</th>\n",
              "      <td>120.50</td>\n",
              "    </tr>\n",
              "    <tr>\n",
              "      <th>1900</th>\n",
              "      <td>122.00</td>\n",
              "    </tr>\n",
              "    <tr>\n",
              "      <th>1901</th>\n",
              "      <td>113.50</td>\n",
              "    </tr>\n",
              "  </tbody>\n",
              "</table>\n",
              "<p>1902 rows × 1 columns</p>\n",
              "</div><br><label><b>dtype:</b> float64</label>"
            ],
            "text/plain": [
              "0        14.62\n",
              "1        14.56\n",
              "2        14.59\n",
              "3        14.64\n",
              "4        14.65\n",
              "         ...  \n",
              "1897    124.00\n",
              "1898    121.00\n",
              "1899    120.50\n",
              "1900    122.00\n",
              "1901    113.50\n",
              "Name: Close_FPT, Length: 1902, dtype: float64"
            ]
          },
          "execution_count": 99,
          "metadata": {},
          "output_type": "execute_result"
        }
      ],
      "source": [
        "fpt_data['Close_FPT']"
      ]
    },
    {
      "cell_type": "code",
      "execution_count": null,
      "metadata": {
        "colab": {
          "base_uri": "https://localhost:8080/"
        },
        "id": "WRjeDPe8RBpW",
        "outputId": "ff0c8b1d-e5fc-456e-f150-3ba19d7e3456"
      },
      "outputs": [
        {
          "name": "stdout",
          "output_type": "stream",
          "text": [
            "Epoch 1/50, Train Loss: 0.0319, Val Loss: 0.0273\n",
            "Epoch 2/50, Train Loss: 0.0125, Val Loss: 0.0107\n",
            "Epoch 3/50, Train Loss: 0.0054, Val Loss: 0.0068\n",
            "Epoch 4/50, Train Loss: 0.0030, Val Loss: 0.0049\n",
            "Epoch 5/50, Train Loss: 0.0022, Val Loss: 0.0045\n",
            "Epoch 6/50, Train Loss: 0.0049, Val Loss: 0.0037\n",
            "Epoch 7/50, Train Loss: 0.0029, Val Loss: 0.0035\n",
            "Epoch 8/50, Train Loss: 0.0031, Val Loss: 0.0065\n",
            "Epoch 9/50, Train Loss: 0.0027, Val Loss: 0.0033\n",
            "Epoch 10/50, Train Loss: 0.0045, Val Loss: 0.0036\n",
            "Epoch 11/50, Train Loss: 0.0038, Val Loss: 0.0035\n",
            "Epoch 12/50, Train Loss: 0.0071, Val Loss: 0.0029\n",
            "Epoch 13/50, Train Loss: 0.0046, Val Loss: 0.0029\n",
            "Epoch 14/50, Train Loss: 0.0082, Val Loss: 0.0032\n",
            "Epoch 15/50, Train Loss: 0.0036, Val Loss: 0.0030\n",
            "Epoch 16/50, Train Loss: 0.0109, Val Loss: 0.0045\n",
            "Epoch 17/50, Train Loss: 0.0010, Val Loss: 0.0039\n",
            "Epoch 18/50, Train Loss: 0.0009, Val Loss: 0.0033\n",
            "Epoch 19/50, Train Loss: 0.0030, Val Loss: 0.0031\n",
            "Epoch 20/50, Train Loss: 0.0099, Val Loss: 0.0026\n",
            "Epoch 21/50, Train Loss: 0.0027, Val Loss: 0.0032\n",
            "Epoch 22/50, Train Loss: 0.0048, Val Loss: 0.0043\n",
            "Epoch 23/50, Train Loss: 0.0054, Val Loss: 0.0027\n",
            "Epoch 24/50, Train Loss: 0.0028, Val Loss: 0.0033\n",
            "Epoch 25/50, Train Loss: 0.0018, Val Loss: 0.0029\n",
            "Epoch 26/50, Train Loss: 0.0011, Val Loss: 0.0041\n",
            "Epoch 27/50, Train Loss: 0.0039, Val Loss: 0.0025\n",
            "Epoch 28/50, Train Loss: 0.0023, Val Loss: 0.0025\n",
            "Epoch 29/50, Train Loss: 0.0033, Val Loss: 0.0044\n",
            "Epoch 30/50, Train Loss: 0.0018, Val Loss: 0.0035\n",
            "Epoch 31/50, Train Loss: 0.0013, Val Loss: 0.0032\n",
            "Epoch 32/50, Train Loss: 0.0020, Val Loss: 0.0045\n",
            "Epoch 33/50, Train Loss: 0.0014, Val Loss: 0.0030\n",
            "Epoch 34/50, Train Loss: 0.0073, Val Loss: 0.0024\n",
            "Epoch 35/50, Train Loss: 0.0034, Val Loss: 0.0032\n",
            "Epoch 36/50, Train Loss: 0.0050, Val Loss: 0.0026\n",
            "Epoch 37/50, Train Loss: 0.0051, Val Loss: 0.0029\n",
            "Epoch 38/50, Train Loss: 0.0005, Val Loss: 0.0025\n",
            "Epoch 39/50, Train Loss: 0.0073, Val Loss: 0.0026\n",
            "Epoch 40/50, Train Loss: 0.0025, Val Loss: 0.0024\n",
            "Epoch 41/50, Train Loss: 0.0044, Val Loss: 0.0024\n",
            "Epoch 42/50, Train Loss: 0.0035, Val Loss: 0.0025\n",
            "Epoch 43/50, Train Loss: 0.0051, Val Loss: 0.0024\n",
            "Epoch 44/50, Train Loss: 0.0015, Val Loss: 0.0024\n",
            "Epoch 45/50, Train Loss: 0.0012, Val Loss: 0.0026\n",
            "Epoch 46/50, Train Loss: 0.0010, Val Loss: 0.0024\n",
            "Epoch 47/50, Train Loss: 0.0016, Val Loss: 0.0023\n",
            "Epoch 48/50, Train Loss: 0.0072, Val Loss: 0.0030\n",
            "Epoch 49/50, Train Loss: 0.0021, Val Loss: 0.0023\n",
            "Epoch 50/50, Train Loss: 0.0044, Val Loss: 0.0026\n"
          ]
        }
      ],
      "source": [
        "import torch.optim as optim\n",
        "import torch.nn as nn\n",
        "from sklearn.metrics import mean_squared_error, mean_absolute_error, r2_score\n",
        "import numpy as np\n",
        "\n",
        "def train_model(model, train_loader, val_loader, epochs=50, learning_rate=0.001, scaler_y=None):\n",
        "    optimizer = optim.Adam(model.parameters(), lr=learning_rate)\n",
        "    criterion = nn.MSELoss()\n",
        "\n",
        "    for epoch in range(epochs):\n",
        "        model.train()\n",
        "        for batch_idx, (data, target) in enumerate(train_loader):\n",
        "            data, target = data.to(device), target.to(device)\n",
        "            optimizer.zero_grad()\n",
        "            output = model(data)\n",
        "            loss = criterion(output, target)\n",
        "            loss.backward()\n",
        "            optimizer.step()\n",
        "\n",
        "        # Validation\n",
        "        model.eval()\n",
        "        val_loss = 0\n",
        "        y_true = []\n",
        "        y_pred = []\n",
        "        with torch.no_grad():\n",
        "            for data, target in val_loader:\n",
        "                data, target = data.to(device), target.to(device)\n",
        "                output = model(data)\n",
        "                val_loss += criterion(output, target).item()\n",
        "\n",
        "                y_true.append(target.cpu().numpy())\n",
        "                y_pred.append(output.cpu().numpy())\n",
        "\n",
        "        val_loss /= len(val_loader)\n",
        "\n",
        "        # Convert to arrays\n",
        "        y_true = np.vstack(y_true)\n",
        "        y_pred = np.vstack(y_pred)\n",
        "\n",
        "        # Inverse transform if scaler provided\n",
        "        if scaler_y is not None:\n",
        "            y_true = scaler_y.inverse_transform(y_true)\n",
        "            y_pred = scaler_y.inverse_transform(y_pred)\n",
        "\n",
        "        # Calculate metrics\n",
        "        rmse = np.sqrt(mean_squared_error(y_true, y_pred))\n",
        "        mae = mean_absolute_error(y_true, y_pred)\n",
        "        r2 = r2_score(y_true, y_pred)\n",
        "\n",
        "        print(f\"Epoch {epoch+1}/{epochs} | Train Loss: {loss.item():.4f} | Val Loss: {val_loss:.4f} | RMSE: {rmse:.4f} | MAE: {mae:.4f} | R2: {r2:.4f}\")\n",
        "\n",
        "    return model\n"
      ]
    },
    {
      "cell_type": "code",
      "execution_count": null,
      "metadata": {
        "colab": {
          "base_uri": "https://localhost:8080/"
        },
        "id": "se2jqP8eVW5j",
        "outputId": "b7884751-6f4c-4e69-bd4a-1eb6b6715162"
      },
      "outputs": [
        {
          "name": "stdout",
          "output_type": "stream",
          "text": [
            "GRU RMSE: 0.1373752702243136\n",
            "GRU MAE: 0.11581135856028303\n",
            "GRU R2: 0.711741760691211\n"
          ]
        }
      ],
      "source": [
        "gru_model.eval()\n",
        "with torch.no_grad():\n",
        "    gru_preds = gru_model(torch.tensor(X_test, dtype=torch.float32).to(device)).cpu().numpy()\n",
        "\n",
        "print(\"GRU RMSE:\", np.sqrt(mean_squared_error(y_test, gru_preds)))\n",
        "print(\"GRU MAE:\", mean_absolute_error(y_test, gru_preds))\n",
        "print(\"GRU R2:\", r2_score(y_test, gru_preds))"
      ]
    },
    {
      "cell_type": "code",
      "execution_count": null,
      "metadata": {
        "id": "7NM7eotQVqtw"
      },
      "outputs": [],
      "source": [
        "import torch.nn.functional as F\n",
        "class CNN_BiLSTM_Attention(nn.Module):\n",
        "    def __init__(self, input_size, hidden_size=64):\n",
        "        super(CNN_BiLSTM_Attention, self).__init__()\n",
        "        self.conv1 = nn.Conv1d(in_channels=input_size, out_channels=64, kernel_size=3, padding=1)\n",
        "        self.dropout_conv = nn.Dropout(0.2)\n",
        "\n",
        "        self.bi_lstm_1 = nn.LSTM(input_size=64, hidden_size=64, batch_first=True, bidirectional=True)\n",
        "        self.bi_lstm_2 = nn.LSTM(input_size=128, hidden_size=64, batch_first=True, bidirectional=True)\n",
        "\n",
        "        self.attention = nn.MultiheadAttention(embed_dim=128, num_heads=4, batch_first=True)\n",
        "\n",
        "        self.fc1 = nn.Linear(128, 64)\n",
        "        self.dropout_fc = nn.Dropout(0.2)\n",
        "        self.fc2 = nn.Linear(64, 1)\n",
        "\n",
        "    def forward(self, x):\n",
        "\n",
        "        x = x.permute(0, 2, 1)\n",
        "        x = F.relu(self.conv1(x))\n",
        "        x = self.dropout_conv(x)\n",
        "\n",
        "        x = x.permute(0, 2, 1)\n",
        "\n",
        "        x, _ = self.bi_lstm_1(x)\n",
        "        x, _ = self.bi_lstm_2(x)\n",
        "\n",
        "\n",
        "        attn_output, _ = self.attention(x, x, x)  # self-attention\n",
        "\n",
        "        pooled = attn_output.mean(dim=1)\n",
        "\n",
        "        x = F.relu(self.fc1(pooled))\n",
        "        x = self.dropout_fc(x)\n",
        "        return self.fc2(x)"
      ]
    },
    {
      "cell_type": "code",
      "execution_count": null,
      "metadata": {
        "colab": {
          "base_uri": "https://localhost:8080/"
        },
        "id": "EnmKgb8QESv3",
        "outputId": "8cb7cc5a-cfef-4dc8-fec2-862fb844cc34"
      },
      "outputs": [
        {
          "name": "stdout",
          "output_type": "stream",
          "text": [
            "Epoch 001/50 | Train Loss: 0.250811 | Val Loss: 0.029802\n",
            "Epoch 002/50 | Train Loss: 0.040469 | Val Loss: 0.023969\n",
            "Epoch 003/50 | Train Loss: 0.031314 | Val Loss: 0.015199\n",
            "Epoch 004/50 | Train Loss: 0.023807 | Val Loss: 0.012915\n",
            "Epoch 005/50 | Train Loss: 0.023814 | Val Loss: 0.013567\n",
            "Epoch 006/50 | Train Loss: 0.021247 | Val Loss: 0.011306\n",
            "Epoch 007/50 | Train Loss: 0.019561 | Val Loss: 0.009028\n",
            "Epoch 008/50 | Train Loss: 0.018919 | Val Loss: 0.013558\n",
            "Epoch 009/50 | Train Loss: 0.019313 | Val Loss: 0.010497\n",
            "Epoch 010/50 | Train Loss: 0.017655 | Val Loss: 0.008208\n",
            "Epoch 011/50 | Train Loss: 0.016593 | Val Loss: 0.011513\n",
            "Epoch 012/50 | Train Loss: 0.017476 | Val Loss: 0.007384\n",
            "Epoch 013/50 | Train Loss: 0.016283 | Val Loss: 0.009511\n",
            "Epoch 014/50 | Train Loss: 0.019459 | Val Loss: 0.007629\n",
            "Epoch 015/50 | Train Loss: 0.018614 | Val Loss: 0.009571\n",
            "Epoch 016/50 | Train Loss: 0.019656 | Val Loss: 0.007640\n",
            "Epoch 017/50 | Train Loss: 0.015368 | Val Loss: 0.006605\n",
            "Epoch 018/50 | Train Loss: 0.014990 | Val Loss: 0.007224\n",
            "Epoch 019/50 | Train Loss: 0.017115 | Val Loss: 0.010358\n",
            "Epoch 020/50 | Train Loss: 0.015912 | Val Loss: 0.008436\n",
            "Epoch 021/50 | Train Loss: 0.015086 | Val Loss: 0.007859\n",
            "Epoch 022/50 | Train Loss: 0.014030 | Val Loss: 0.008112\n",
            "Epoch 023/50 | Train Loss: 0.013957 | Val Loss: 0.006325\n",
            "Epoch 024/50 | Train Loss: 0.015841 | Val Loss: 0.008408\n",
            "Epoch 025/50 | Train Loss: 0.013040 | Val Loss: 0.008506\n",
            "Epoch 026/50 | Train Loss: 0.014090 | Val Loss: 0.006271\n",
            "Epoch 027/50 | Train Loss: 0.012608 | Val Loss: 0.004574\n",
            "Epoch 028/50 | Train Loss: 0.012204 | Val Loss: 0.004463\n",
            "Epoch 029/50 | Train Loss: 0.011364 | Val Loss: 0.005152\n",
            "Epoch 030/50 | Train Loss: 0.012469 | Val Loss: 0.005229\n",
            "Epoch 031/50 | Train Loss: 0.012202 | Val Loss: 0.005741\n",
            "Epoch 032/50 | Train Loss: 0.014318 | Val Loss: 0.004472\n",
            "Epoch 033/50 | Train Loss: 0.012673 | Val Loss: 0.004093\n",
            "Epoch 034/50 | Train Loss: 0.014574 | Val Loss: 0.008714\n",
            "Epoch 035/50 | Train Loss: 0.013220 | Val Loss: 0.003890\n",
            "Epoch 036/50 | Train Loss: 0.012733 | Val Loss: 0.003835\n",
            "Epoch 037/50 | Train Loss: 0.013219 | Val Loss: 0.004143\n",
            "Epoch 038/50 | Train Loss: 0.014797 | Val Loss: 0.009725\n",
            "Epoch 039/50 | Train Loss: 0.014110 | Val Loss: 0.003277\n",
            "Epoch 040/50 | Train Loss: 0.011531 | Val Loss: 0.004124\n",
            "Epoch 041/50 | Train Loss: 0.012933 | Val Loss: 0.005917\n",
            "Epoch 042/50 | Train Loss: 0.013936 | Val Loss: 0.004800\n",
            "Epoch 043/50 | Train Loss: 0.011826 | Val Loss: 0.003186\n",
            "Epoch 044/50 | Train Loss: 0.010848 | Val Loss: 0.003775\n",
            "Epoch 045/50 | Train Loss: 0.012333 | Val Loss: 0.005148\n",
            "Epoch 046/50 | Train Loss: 0.013293 | Val Loss: 0.003944\n",
            "Epoch 047/50 | Train Loss: 0.012373 | Val Loss: 0.003528\n",
            "Epoch 048/50 | Train Loss: 0.012440 | Val Loss: 0.003374\n",
            "Epoch 049/50 | Train Loss: 0.012544 | Val Loss: 0.005021\n",
            "Epoch 050/50 | Train Loss: 0.011284 | Val Loss: 0.006452\n",
            "CNN-BiLSTM-Attn RMSE: 0.8190306261104713\n",
            "CNN-BiLSTM-Attn MAE: 0.6711661929176409\n",
            "CNN-BiLSTM-Attn R2: -8.573591706537247\n"
          ]
        }
      ],
      "source": [
        "from sklearn.model_selection import train_test_split\n",
        "from sklearn.metrics import mean_absolute_error, mean_squared_error, r2_score\n",
        "\n",
        "device = torch.device(\"cuda\" if torch.cuda.is_available() else \"cpu\")\n",
        "X_train_gru, X_val_gru, y_train_gru, y_val_gru = train_test_split(\n",
        "    X_train, y_train, test_size=0.2, random_state=42\n",
        ")\n",
        "\n",
        "train_loader, val_loader = create_data_loaders(X_train_gru, y_train_gru, X_val_gru, y_val_gru)\n",
        "bi_model = CNN_BiLSTM_Attention(input_size=X_train.shape[2]).to(device)\n",
        "bi_model = train_model(bi_model, train_loader, val_loader)\n",
        "\n",
        "bi_model.eval()\n",
        "with torch.no_grad():\n",
        "    preds = bi_model(torch.tensor(X_test, dtype=torch.float32).to(device)).cpu().numpy()\n",
        "\n",
        "print(\"CNN-BiLSTM-Attn RMSE:\", np.sqrt(mean_squared_error(y_test, preds)))\n",
        "print(\"CNN-BiLSTM-Attn MAE:\", mean_absolute_error(y_test, preds))\n",
        "print(\"CNN-BiLSTM-Attn R2:\", r2_score(y_test, preds))"
      ]
    },
    {
      "cell_type": "code",
      "execution_count": null,
      "metadata": {
        "id": "Dp_8C8r_I3uO"
      },
      "outputs": [],
      "source": []
    }
  ],
  "metadata": {
    "accelerator": "GPU",
    "colab": {
      "gpuType": "T4",
      "provenance": []
    },
    "kernelspec": {
      "display_name": "Python 3",
      "name": "python3"
    },
    "language_info": {
      "name": "python"
    }
  },
  "nbformat": 4,
  "nbformat_minor": 0
}